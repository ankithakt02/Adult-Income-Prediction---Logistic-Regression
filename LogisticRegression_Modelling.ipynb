{
  "nbformat": 4,
  "nbformat_minor": 0,
  "metadata": {
    "colab": {
      "name": "LogisticRegression_Modelling.ipynb",
      "provenance": [],
      "collapsed_sections": []
    },
    "kernelspec": {
      "name": "python3",
      "display_name": "Python 3"
    },
    "language_info": {
      "name": "python"
    }
  },
  "cells": [
    {
      "cell_type": "code",
      "execution_count": 1,
      "metadata": {
        "id": "U8brR_xqUEKw"
      },
      "outputs": [],
      "source": [
        "import pandas as pd\n",
        "import numpy as np\n",
        "import matplotlib.pyplot as plt\n",
        "import seaborn as sns\n",
        "from sklearn.model_selection import train_test_split\n",
        "from sklearn.linear_model import LogisticRegression\n",
        "from sklearn.metrics import confusion_matrix, accuracy_score"
      ]
    },
    {
      "cell_type": "code",
      "source": [
        "from google.colab import drive\n",
        "drive.mount('/content/drive')"
      ],
      "metadata": {
        "colab": {
          "base_uri": "https://localhost:8080/"
        },
        "id": "5ziEZaCVV4d5",
        "outputId": "8a07fca5-6464-4c2d-c2b0-11ce3afd23d6"
      },
      "execution_count": 3,
      "outputs": [
        {
          "output_type": "stream",
          "name": "stdout",
          "text": [
            "Mounted at /content/drive\n"
          ]
        }
      ]
    },
    {
      "cell_type": "code",
      "source": [
        "df2= pd.read_csv(\"/content/drive/MyDrive/DAC_datasets/adult_income_pred.csv\")"
      ],
      "metadata": {
        "id": "CWobwUPiVtYV"
      },
      "execution_count": 4,
      "outputs": []
    },
    {
      "cell_type": "code",
      "source": [
        "df2['income'].replace({'<=50K':0, '>50K':1})"
      ],
      "metadata": {
        "colab": {
          "base_uri": "https://localhost:8080/"
        },
        "id": "RmFEAHvEWbm5",
        "outputId": "623a448d-2de4-46cd-88e6-d217e7a3959f"
      },
      "execution_count": 5,
      "outputs": [
        {
          "output_type": "execute_result",
          "data": {
            "text/plain": [
              "0        0\n",
              "1        0\n",
              "2        0\n",
              "3        0\n",
              "4        0\n",
              "        ..\n",
              "30157    0\n",
              "30158    0\n",
              "30159    1\n",
              "30160    0\n",
              "30161    0\n",
              "Name: income, Length: 30162, dtype: int64"
            ]
          },
          "metadata": {},
          "execution_count": 5
        }
      ]
    },
    {
      "cell_type": "code",
      "source": [
        "new_df = pd.get_dummies(df2, drop_first=True)"
      ],
      "metadata": {
        "id": "kAIwqU_oWnnz"
      },
      "execution_count": 6,
      "outputs": []
    },
    {
      "cell_type": "markdown",
      "source": [
        "Separating the columns"
      ],
      "metadata": {
        "id": "RKMannXsX63N"
      }
    },
    {
      "cell_type": "code",
      "source": [
        "cols = list(new_df.columns)\n",
        "print(cols)"
      ],
      "metadata": {
        "colab": {
          "base_uri": "https://localhost:8080/"
        },
        "id": "NQyJ0aP7Wqg7",
        "outputId": "f6f2c365-961c-4289-961b-779de502d583"
      },
      "execution_count": 7,
      "outputs": [
        {
          "output_type": "stream",
          "name": "stdout",
          "text": [
            "['Unnamed: 0', 'age', 'fnlwgt', 'education.num', 'capital.gain', 'capital.loss', 'hours.per.week', 'workclass_Local-gov', 'workclass_Private', 'workclass_Self-emp-inc', 'workclass_Self-emp-not-inc', 'workclass_State-gov', 'workclass_Without-pay', 'education_11th', 'education_12th', 'education_1st-4th', 'education_5th-6th', 'education_7th-8th', 'education_9th', 'education_Assoc-acdm', 'education_Assoc-voc', 'education_Bachelors', 'education_Doctorate', 'education_HS-grad', 'education_Masters', 'education_Preschool', 'education_Prof-school', 'education_Some-college', 'marital.status_Married-AF-spouse', 'marital.status_Married-civ-spouse', 'marital.status_Married-spouse-absent', 'marital.status_Never-married', 'marital.status_Separated', 'marital.status_Widowed', 'occupation_Armed-Forces', 'occupation_Craft-repair', 'occupation_Exec-managerial', 'occupation_Farming-fishing', 'occupation_Handlers-cleaners', 'occupation_Machine-op-inspct', 'occupation_Other-service', 'occupation_Priv-house-serv', 'occupation_Prof-specialty', 'occupation_Protective-serv', 'occupation_Sales', 'occupation_Tech-support', 'occupation_Transport-moving', 'relationship_Not-in-family', 'relationship_Other-relative', 'relationship_Own-child', 'relationship_Unmarried', 'relationship_Wife', 'race_Asian-Pac-Islander', 'race_Black', 'race_Other', 'race_White', 'sex_Male', 'native.country_Canada', 'native.country_China', 'native.country_Columbia', 'native.country_Cuba', 'native.country_Dominican-Republic', 'native.country_Ecuador', 'native.country_El-Salvador', 'native.country_England', 'native.country_France', 'native.country_Germany', 'native.country_Greece', 'native.country_Guatemala', 'native.country_Haiti', 'native.country_Holand-Netherlands', 'native.country_Honduras', 'native.country_Hong', 'native.country_Hungary', 'native.country_India', 'native.country_Iran', 'native.country_Ireland', 'native.country_Italy', 'native.country_Jamaica', 'native.country_Japan', 'native.country_Laos', 'native.country_Mexico', 'native.country_Nicaragua', 'native.country_Outlying-US(Guam-USVI-etc)', 'native.country_Peru', 'native.country_Philippines', 'native.country_Poland', 'native.country_Portugal', 'native.country_Puerto-Rico', 'native.country_Scotland', 'native.country_South', 'native.country_Taiwan', 'native.country_Thailand', 'native.country_Trinadad&Tobago', 'native.country_United-States', 'native.country_Vietnam', 'native.country_Yugoslavia', 'income_>50K']\n"
          ]
        }
      ]
    },
    {
      "cell_type": "markdown",
      "source": [
        "SPLITTING DATA INTO TRAIN AND TEST"
      ],
      "metadata": {
        "id": "t5DK_6abXavp"
      }
    },
    {
      "cell_type": "code",
      "source": [
        "X=new_df.drop(columns=[\"income_>50K\"],axis=1)"
      ],
      "metadata": {
        "id": "N7ltYZMfXdZg"
      },
      "execution_count": 8,
      "outputs": []
    },
    {
      "cell_type": "code",
      "source": [
        "Y=new_df[\"income_>50K\"]"
      ],
      "metadata": {
        "id": "a5HY8enIXjW6"
      },
      "execution_count": 9,
      "outputs": []
    },
    {
      "cell_type": "code",
      "source": [
        "X_train, X_test, Y_train, Y_test = train_test_split(X, Y, test_size=0.33, random_state=0) "
      ],
      "metadata": {
        "id": "qSCMEzjxXl4-"
      },
      "execution_count": 10,
      "outputs": []
    },
    {
      "cell_type": "code",
      "source": [
        "log = LogisticRegression()"
      ],
      "metadata": {
        "id": "Ke6WOaRrXxGs"
      },
      "execution_count": 11,
      "outputs": []
    },
    {
      "cell_type": "code",
      "source": [
        "log.fit(X_train, Y_train)"
      ],
      "metadata": {
        "colab": {
          "base_uri": "https://localhost:8080/"
        },
        "id": "Xy9lZru7YB2O",
        "outputId": "1990b815-7198-4d0e-c056-dd6b59e3f9dd"
      },
      "execution_count": 12,
      "outputs": [
        {
          "output_type": "execute_result",
          "data": {
            "text/plain": [
              "LogisticRegression()"
            ]
          },
          "metadata": {},
          "execution_count": 12
        }
      ]
    },
    {
      "cell_type": "code",
      "source": [
        "#PREDICTING\n",
        "pred = log.predict(X_test)"
      ],
      "metadata": {
        "id": "TKAb7HdnYDQB"
      },
      "execution_count": 13,
      "outputs": []
    },
    {
      "cell_type": "code",
      "source": [
        "#CONFUSION MATRIX\n",
        "cm = confusion_matrix(Y_test, pred)\n",
        "print(cm)"
      ],
      "metadata": {
        "colab": {
          "base_uri": "https://localhost:8080/"
        },
        "id": "J_X4re6UYLTj",
        "outputId": "499a6c7d-480e-420b-e0f9-82c53928cc77"
      },
      "execution_count": 14,
      "outputs": [
        {
          "output_type": "stream",
          "name": "stdout",
          "text": [
            "[[7137  284]\n",
            " [1817  716]]\n"
          ]
        }
      ]
    },
    {
      "cell_type": "code",
      "source": [
        "#ACCURACY SCORE\n",
        "ac = accuracy_score(Y_test, pred)\n",
        "print(ac)"
      ],
      "metadata": {
        "colab": {
          "base_uri": "https://localhost:8080/"
        },
        "id": "bMN_BtNJYOIL",
        "outputId": "909f40d8-ed82-4bbe-cf9a-41d2c1c1c238"
      },
      "execution_count": 15,
      "outputs": [
        {
          "output_type": "stream",
          "name": "stdout",
          "text": [
            "0.7889290737392003\n"
          ]
        }
      ]
    },
    {
      "cell_type": "markdown",
      "source": [
        "79% ACCURACY ACHIEVED"
      ],
      "metadata": {
        "id": "ywJCars_PsRQ"
      }
    },
    {
      "cell_type": "code",
      "source": [
        "#MISCLASSIFIED SAMPLES\n",
        "print((Y_test!=pred).sum())"
      ],
      "metadata": {
        "colab": {
          "base_uri": "https://localhost:8080/"
        },
        "id": "83cDW36vYUN8",
        "outputId": "950f55a2-6950-4bf6-c2f9-d42ca6bce146"
      },
      "execution_count": 16,
      "outputs": [
        {
          "output_type": "stream",
          "name": "stdout",
          "text": [
            "2101\n"
          ]
        }
      ]
    }
  ]
}